{
 "cells": [
  {
   "cell_type": "markdown",
   "id": "8ec30536-5ebf-4492-8e1d-c799e4d93f9d",
   "metadata": {},
   "source": [
    "### Element of Structured Data"
   ]
  },
  {
   "cell_type": "markdown",
   "id": "a84f6b65-e580-4142-bdd7-57a0c435c295",
   "metadata": {},
   "source": [
    "Structured data is a tabular format(like a tabular format/like a spreadsheet or database table).It has\n",
    "1. Rows: Observation or records\n",
    "2. Columns: Variable or Features\n"
   ]
  },
  {
   "cell_type": "code",
   "execution_count": 3,
   "id": "356c68b0-a4cb-4368-8248-30ffe4c4ecd2",
   "metadata": {},
   "outputs": [
    {
     "data": {
      "text/html": [
       "<div>\n",
       "<style scoped>\n",
       "    .dataframe tbody tr th:only-of-type {\n",
       "        vertical-align: middle;\n",
       "    }\n",
       "\n",
       "    .dataframe tbody tr th {\n",
       "        vertical-align: top;\n",
       "    }\n",
       "\n",
       "    .dataframe thead th {\n",
       "        text-align: right;\n",
       "    }\n",
       "</style>\n",
       "<table border=\"1\" class=\"dataframe\">\n",
       "  <thead>\n",
       "    <tr style=\"text-align: right;\">\n",
       "      <th></th>\n",
       "      <th>PassengerId</th>\n",
       "      <th>Survived</th>\n",
       "      <th>Pclass</th>\n",
       "      <th>Name</th>\n",
       "      <th>Sex</th>\n",
       "      <th>Age</th>\n",
       "      <th>SibSp</th>\n",
       "      <th>Parch</th>\n",
       "      <th>Ticket</th>\n",
       "      <th>Fare</th>\n",
       "      <th>Cabin</th>\n",
       "      <th>Embarked</th>\n",
       "    </tr>\n",
       "  </thead>\n",
       "  <tbody>\n",
       "    <tr>\n",
       "      <th>0</th>\n",
       "      <td>1</td>\n",
       "      <td>0</td>\n",
       "      <td>3</td>\n",
       "      <td>Braund, Mr. Owen Harris</td>\n",
       "      <td>male</td>\n",
       "      <td>22.0</td>\n",
       "      <td>1</td>\n",
       "      <td>0</td>\n",
       "      <td>A/5 21171</td>\n",
       "      <td>7.2500</td>\n",
       "      <td>NaN</td>\n",
       "      <td>S</td>\n",
       "    </tr>\n",
       "    <tr>\n",
       "      <th>1</th>\n",
       "      <td>2</td>\n",
       "      <td>1</td>\n",
       "      <td>1</td>\n",
       "      <td>Cumings, Mrs. John Bradley (Florence Briggs Th...</td>\n",
       "      <td>female</td>\n",
       "      <td>38.0</td>\n",
       "      <td>1</td>\n",
       "      <td>0</td>\n",
       "      <td>PC 17599</td>\n",
       "      <td>71.2833</td>\n",
       "      <td>C85</td>\n",
       "      <td>C</td>\n",
       "    </tr>\n",
       "    <tr>\n",
       "      <th>2</th>\n",
       "      <td>3</td>\n",
       "      <td>1</td>\n",
       "      <td>3</td>\n",
       "      <td>Heikkinen, Miss. Laina</td>\n",
       "      <td>female</td>\n",
       "      <td>26.0</td>\n",
       "      <td>0</td>\n",
       "      <td>0</td>\n",
       "      <td>STON/O2. 3101282</td>\n",
       "      <td>7.9250</td>\n",
       "      <td>NaN</td>\n",
       "      <td>S</td>\n",
       "    </tr>\n",
       "    <tr>\n",
       "      <th>3</th>\n",
       "      <td>4</td>\n",
       "      <td>1</td>\n",
       "      <td>1</td>\n",
       "      <td>Futrelle, Mrs. Jacques Heath (Lily May Peel)</td>\n",
       "      <td>female</td>\n",
       "      <td>35.0</td>\n",
       "      <td>1</td>\n",
       "      <td>0</td>\n",
       "      <td>113803</td>\n",
       "      <td>53.1000</td>\n",
       "      <td>C123</td>\n",
       "      <td>S</td>\n",
       "    </tr>\n",
       "    <tr>\n",
       "      <th>4</th>\n",
       "      <td>5</td>\n",
       "      <td>0</td>\n",
       "      <td>3</td>\n",
       "      <td>Allen, Mr. William Henry</td>\n",
       "      <td>male</td>\n",
       "      <td>35.0</td>\n",
       "      <td>0</td>\n",
       "      <td>0</td>\n",
       "      <td>373450</td>\n",
       "      <td>8.0500</td>\n",
       "      <td>NaN</td>\n",
       "      <td>S</td>\n",
       "    </tr>\n",
       "  </tbody>\n",
       "</table>\n",
       "</div>"
      ],
      "text/plain": [
       "   PassengerId  Survived  Pclass  \\\n",
       "0            1         0       3   \n",
       "1            2         1       1   \n",
       "2            3         1       3   \n",
       "3            4         1       1   \n",
       "4            5         0       3   \n",
       "\n",
       "                                                Name     Sex   Age  SibSp  \\\n",
       "0                            Braund, Mr. Owen Harris    male  22.0      1   \n",
       "1  Cumings, Mrs. John Bradley (Florence Briggs Th...  female  38.0      1   \n",
       "2                             Heikkinen, Miss. Laina  female  26.0      0   \n",
       "3       Futrelle, Mrs. Jacques Heath (Lily May Peel)  female  35.0      1   \n",
       "4                           Allen, Mr. William Henry    male  35.0      0   \n",
       "\n",
       "   Parch            Ticket     Fare Cabin Embarked  \n",
       "0      0         A/5 21171   7.2500   NaN        S  \n",
       "1      0          PC 17599  71.2833   C85        C  \n",
       "2      0  STON/O2. 3101282   7.9250   NaN        S  \n",
       "3      0            113803  53.1000  C123        S  \n",
       "4      0            373450   8.0500   NaN        S  "
      ]
     },
     "execution_count": 3,
     "metadata": {},
     "output_type": "execute_result"
    }
   ],
   "source": [
    "#lets try on titanic dataset\n",
    "import pandas as pd\n",
    "df=pd.read_csv(\"titanic.csv\")\n",
    "df.head()"
   ]
  },
  {
   "cell_type": "code",
   "execution_count": null,
   "id": "16612e12-0c2a-40a1-a526-115f44dd4901",
   "metadata": {},
   "outputs": [],
   "source": [
    "#this above dataset is proper structured dataset as it consist row for records and column for feayures like name,sex,age etc\n"
   ]
  },
  {
   "cell_type": "markdown",
   "id": "bbb2b580-3255-4fa4-9629-fc0336a4ec36",
   "metadata": {},
   "source": [
    "## DATA TYPES"
   ]
  },
  {
   "cell_type": "markdown",
   "id": "148c8f29-3de2-4e4c-96ce-7094efceeb42",
   "metadata": {},
   "source": [
    "Data types determine how data is stored, processed and analyzed. There are 2 kinds of data sets. They are:\n",
    "1. Numeric Data\n",
    "2. Categorical Data\n",
    "\n",
    "  Numeric Data:::\n",
    "Data in numeric form. They are mostly used for calculation of estimate of locations like mean,median, outlier etc.. Numeric data Consist of two   types. They are:\n",
    "   1. Continuous###:Any value in range, E.g. 24.6,12.3 , Its python data type is float.\n",
    "   2. Discrete: Integer values, E.g. 3,5,6, Its python data type is Int.\n",
    "\n",
    " Categorical Data:::\n",
    "Data in frequency or countable form. They are for grouping and counting. Categorical data consist of 3 types. They are:\n",
    "   1. Categorical: Represent categories or grouping. Example: male,Female. Python type: category(in pandas)\n",
    "   2. Binary: Represent only Two values(True/False). Example: 1 ,0,True,False. Python type: Bool\n",
    "   3. Ordinal: Represent meaningful order. Example: Rating, Educational level. Python type: Category with ordered=True"
   ]
  },
  {
   "cell_type": "code",
   "execution_count": 16,
   "id": "80242548-b45a-4130-ac33-8d8169d64da1",
   "metadata": {},
   "outputs": [],
   "source": [
    "#Numeric Data types\n",
    "\n",
    "#lets try to find continuoos datas from tinanic dataset"
   ]
  },
  {
   "cell_type": "code",
   "execution_count": 5,
   "id": "ca5f77c7-05dc-445c-9612-08746f7ac888",
   "metadata": {},
   "outputs": [
    {
     "data": {
      "text/plain": [
       "0    22.0\n",
       "1    38.0\n",
       "2    26.0\n",
       "3    35.0\n",
       "4    35.0\n",
       "Name: Age, dtype: float64"
      ]
     },
     "execution_count": 5,
     "metadata": {},
     "output_type": "execute_result"
    }
   ],
   "source": [
    "cont_data=df['Age']\n",
    "cont_data.head()"
   ]
  },
  {
   "cell_type": "code",
   "execution_count": 22,
   "id": "b942321d-5271-45d5-98cf-235a98c343d3",
   "metadata": {},
   "outputs": [],
   "source": [
    "#as we alrady can see Age column is Float python data type.So Age column/feature having continuous data records\n"
   ]
  },
  {
   "cell_type": "code",
   "execution_count": 24,
   "id": "e8ee1871-3aeb-4163-9902-dd70af2327b0",
   "metadata": {},
   "outputs": [],
   "source": [
    "#lets try to find  a discrete data from titanic dataset"
   ]
  },
  {
   "cell_type": "code",
   "execution_count": 7,
   "id": "3a9e20a3-8754-444c-b5f1-f44c7225b555",
   "metadata": {},
   "outputs": [
    {
     "data": {
      "text/plain": [
       "0    3\n",
       "1    1\n",
       "2    3\n",
       "3    1\n",
       "4    3\n",
       "Name: Pclass, dtype: int64"
      ]
     },
     "execution_count": 7,
     "metadata": {},
     "output_type": "execute_result"
    }
   ],
   "source": [
    "dis_data=df['Pclass']\n",
    "dis_data.head()"
   ]
  },
  {
   "cell_type": "code",
   "execution_count": 32,
   "id": "2da5b036-6e59-492f-b8cd-2f84d81fbb10",
   "metadata": {},
   "outputs": [],
   "source": [
    "#as see Pclass column consist int python data types. So Pclass column is discrete data "
   ]
  },
  {
   "cell_type": "code",
   "execution_count": 1,
   "id": "6fd95ee6-da3e-4f78-ba99-47b68aca1173",
   "metadata": {},
   "outputs": [],
   "source": [
    "#Categorical data"
   ]
  },
  {
   "cell_type": "code",
   "execution_count": 13,
   "id": "bb99be60-a5c8-4a3e-b51d-3259f12f476d",
   "metadata": {},
   "outputs": [],
   "source": [
    "category_data=df['Sex']\n"
   ]
  },
  {
   "cell_type": "code",
   "execution_count": 15,
   "id": "572459f5-4196-44b6-a7ee-bfc5b09dcaa4",
   "metadata": {},
   "outputs": [
    {
     "data": {
      "text/plain": [
       "0      male\n",
       "1    female\n",
       "2    female\n",
       "3    female\n",
       "4      male\n",
       "Name: Sex, dtype: object"
      ]
     },
     "execution_count": 15,
     "metadata": {},
     "output_type": "execute_result"
    }
   ],
   "source": [
    "category_data.head()"
   ]
  },
  {
   "cell_type": "code",
   "execution_count": null,
   "id": "982ff2d3-c2b8-4ace-af2d-a552d902f1e3",
   "metadata": {},
   "outputs": [],
   "source": [
    "#its still a object type.lets convert in category data type"
   ]
  },
  {
   "cell_type": "code",
   "execution_count": 17,
   "id": "d4a29940-8006-4f33-961f-fdd58f6b1bd0",
   "metadata": {},
   "outputs": [
    {
     "data": {
      "text/plain": [
       "0        male\n",
       "1      female\n",
       "2      female\n",
       "3      female\n",
       "4        male\n",
       "        ...  \n",
       "886      male\n",
       "887    female\n",
       "888    female\n",
       "889      male\n",
       "890      male\n",
       "Name: Sex, Length: 891, dtype: category\n",
       "Categories (2, object): ['female', 'male']"
      ]
     },
     "execution_count": 17,
     "metadata": {},
     "output_type": "execute_result"
    }
   ],
   "source": [
    "category_data.astype(\"category\")"
   ]
  },
  {
   "cell_type": "code",
   "execution_count": 21,
   "id": "c8a55037-47cd-4c12-b512-b7eeca11bce6",
   "metadata": {},
   "outputs": [],
   "source": [
    "#as you can see dtype:category\n"
   ]
  },
  {
   "cell_type": "code",
   "execution_count": 23,
   "id": "23095759-abd9-415d-82e5-6e57b414e04f",
   "metadata": {},
   "outputs": [],
   "source": [
    "#Binary"
   ]
  },
  {
   "cell_type": "code",
   "execution_count": 25,
   "id": "5d397146-70a7-4207-a809-1ecdb226ad03",
   "metadata": {},
   "outputs": [],
   "source": [
    "binary_data=df['Survived']"
   ]
  },
  {
   "cell_type": "code",
   "execution_count": 27,
   "id": "645ef44b-47fb-4394-9c75-10788e08c63b",
   "metadata": {},
   "outputs": [
    {
     "data": {
      "text/plain": [
       "0    0\n",
       "1    1\n",
       "2    1\n",
       "3    1\n",
       "4    0\n",
       "Name: Survived, dtype: int64"
      ]
     },
     "execution_count": 27,
     "metadata": {},
     "output_type": "execute_result"
    }
   ],
   "source": [
    "binary_data.head()"
   ]
  },
  {
   "cell_type": "code",
   "execution_count": 29,
   "id": "8778114a-b5a6-484d-b558-9ef99265f30a",
   "metadata": {},
   "outputs": [
    {
     "data": {
      "text/plain": [
       "0      False\n",
       "1       True\n",
       "2       True\n",
       "3       True\n",
       "4      False\n",
       "       ...  \n",
       "886    False\n",
       "887     True\n",
       "888    False\n",
       "889     True\n",
       "890    False\n",
       "Name: Survived, Length: 891, dtype: bool"
      ]
     },
     "execution_count": 29,
     "metadata": {},
     "output_type": "execute_result"
    }
   ],
   "source": [
    "#its int type lets convert into bool type\n",
    "binary_data.astype(\"bool\")"
   ]
  },
  {
   "cell_type": "code",
   "execution_count": null,
   "id": "349026ad-0628-469f-819f-3bb75ecebf4e",
   "metadata": {},
   "outputs": [],
   "source": [
    "#as you see data is converted into True and False"
   ]
  },
  {
   "cell_type": "code",
   "execution_count": 31,
   "id": "7ffa4f67-668a-4924-99b3-08864800509b",
   "metadata": {},
   "outputs": [],
   "source": [
    "#Ordinal"
   ]
  },
  {
   "cell_type": "code",
   "execution_count": 33,
   "id": "21bb1a1e-fd60-465b-a56e-2b0031fc310e",
   "metadata": {},
   "outputs": [
    {
     "data": {
      "text/html": [
       "<div>\n",
       "<style scoped>\n",
       "    .dataframe tbody tr th:only-of-type {\n",
       "        vertical-align: middle;\n",
       "    }\n",
       "\n",
       "    .dataframe tbody tr th {\n",
       "        vertical-align: top;\n",
       "    }\n",
       "\n",
       "    .dataframe thead th {\n",
       "        text-align: right;\n",
       "    }\n",
       "</style>\n",
       "<table border=\"1\" class=\"dataframe\">\n",
       "  <thead>\n",
       "    <tr style=\"text-align: right;\">\n",
       "      <th></th>\n",
       "      <th>PassengerId</th>\n",
       "      <th>Survived</th>\n",
       "      <th>Pclass</th>\n",
       "      <th>Name</th>\n",
       "      <th>Sex</th>\n",
       "      <th>Age</th>\n",
       "      <th>SibSp</th>\n",
       "      <th>Parch</th>\n",
       "      <th>Ticket</th>\n",
       "      <th>Fare</th>\n",
       "      <th>Cabin</th>\n",
       "      <th>Embarked</th>\n",
       "    </tr>\n",
       "  </thead>\n",
       "  <tbody>\n",
       "    <tr>\n",
       "      <th>0</th>\n",
       "      <td>1</td>\n",
       "      <td>0</td>\n",
       "      <td>3</td>\n",
       "      <td>Braund, Mr. Owen Harris</td>\n",
       "      <td>male</td>\n",
       "      <td>22.0</td>\n",
       "      <td>1</td>\n",
       "      <td>0</td>\n",
       "      <td>A/5 21171</td>\n",
       "      <td>7.2500</td>\n",
       "      <td>NaN</td>\n",
       "      <td>S</td>\n",
       "    </tr>\n",
       "    <tr>\n",
       "      <th>1</th>\n",
       "      <td>2</td>\n",
       "      <td>1</td>\n",
       "      <td>1</td>\n",
       "      <td>Cumings, Mrs. John Bradley (Florence Briggs Th...</td>\n",
       "      <td>female</td>\n",
       "      <td>38.0</td>\n",
       "      <td>1</td>\n",
       "      <td>0</td>\n",
       "      <td>PC 17599</td>\n",
       "      <td>71.2833</td>\n",
       "      <td>C85</td>\n",
       "      <td>C</td>\n",
       "    </tr>\n",
       "    <tr>\n",
       "      <th>2</th>\n",
       "      <td>3</td>\n",
       "      <td>1</td>\n",
       "      <td>3</td>\n",
       "      <td>Heikkinen, Miss. Laina</td>\n",
       "      <td>female</td>\n",
       "      <td>26.0</td>\n",
       "      <td>0</td>\n",
       "      <td>0</td>\n",
       "      <td>STON/O2. 3101282</td>\n",
       "      <td>7.9250</td>\n",
       "      <td>NaN</td>\n",
       "      <td>S</td>\n",
       "    </tr>\n",
       "    <tr>\n",
       "      <th>3</th>\n",
       "      <td>4</td>\n",
       "      <td>1</td>\n",
       "      <td>1</td>\n",
       "      <td>Futrelle, Mrs. Jacques Heath (Lily May Peel)</td>\n",
       "      <td>female</td>\n",
       "      <td>35.0</td>\n",
       "      <td>1</td>\n",
       "      <td>0</td>\n",
       "      <td>113803</td>\n",
       "      <td>53.1000</td>\n",
       "      <td>C123</td>\n",
       "      <td>S</td>\n",
       "    </tr>\n",
       "    <tr>\n",
       "      <th>4</th>\n",
       "      <td>5</td>\n",
       "      <td>0</td>\n",
       "      <td>3</td>\n",
       "      <td>Allen, Mr. William Henry</td>\n",
       "      <td>male</td>\n",
       "      <td>35.0</td>\n",
       "      <td>0</td>\n",
       "      <td>0</td>\n",
       "      <td>373450</td>\n",
       "      <td>8.0500</td>\n",
       "      <td>NaN</td>\n",
       "      <td>S</td>\n",
       "    </tr>\n",
       "  </tbody>\n",
       "</table>\n",
       "</div>"
      ],
      "text/plain": [
       "   PassengerId  Survived  Pclass  \\\n",
       "0            1         0       3   \n",
       "1            2         1       1   \n",
       "2            3         1       3   \n",
       "3            4         1       1   \n",
       "4            5         0       3   \n",
       "\n",
       "                                                Name     Sex   Age  SibSp  \\\n",
       "0                            Braund, Mr. Owen Harris    male  22.0      1   \n",
       "1  Cumings, Mrs. John Bradley (Florence Briggs Th...  female  38.0      1   \n",
       "2                             Heikkinen, Miss. Laina  female  26.0      0   \n",
       "3       Futrelle, Mrs. Jacques Heath (Lily May Peel)  female  35.0      1   \n",
       "4                           Allen, Mr. William Henry    male  35.0      0   \n",
       "\n",
       "   Parch            Ticket     Fare Cabin Embarked  \n",
       "0      0         A/5 21171   7.2500   NaN        S  \n",
       "1      0          PC 17599  71.2833   C85        C  \n",
       "2      0  STON/O2. 3101282   7.9250   NaN        S  \n",
       "3      0            113803  53.1000  C123        S  \n",
       "4      0            373450   8.0500   NaN        S  "
      ]
     },
     "execution_count": 33,
     "metadata": {},
     "output_type": "execute_result"
    }
   ],
   "source": [
    "df.head()"
   ]
  },
  {
   "cell_type": "code",
   "execution_count": 35,
   "id": "912e8291-95d3-48fd-bd45-baf9a01657bf",
   "metadata": {},
   "outputs": [],
   "source": [
    "#here we can see Pclass is a ordinal data because ticket is has ranking of class 1, class 2, class 3. lets try to on this column"
   ]
  },
  {
   "cell_type": "code",
   "execution_count": 45,
   "id": "47c04ab3-afd4-4ab9-8eb5-47a5c5206759",
   "metadata": {},
   "outputs": [
    {
     "ename": "TypeError",
     "evalue": "unhashable type: 'Series'",
     "output_type": "error",
     "traceback": [
      "\u001b[1;31m---------------------------------------------------------------------------\u001b[0m",
      "\u001b[1;31mTypeError\u001b[0m                                 Traceback (most recent call last)",
      "Cell \u001b[1;32mIn[45], line 3\u001b[0m\n\u001b[0;32m      1\u001b[0m \u001b[38;5;66;03m#lets create new dataframe containing 'name' and 'Plcass' only\u001b[39;00m\n\u001b[0;32m      2\u001b[0m \u001b[38;5;28;01mimport\u001b[39;00m \u001b[38;5;21;01mpandas\u001b[39;00m \u001b[38;5;28;01mas\u001b[39;00m \u001b[38;5;21;01mpd\u001b[39;00m\n\u001b[1;32m----> 3\u001b[0m ordinal_data\u001b[38;5;241m=\u001b[39mpd\u001b[38;5;241m.\u001b[39mDataFrame({\n\u001b[0;32m      4\u001b[0m     df[\u001b[38;5;124m'\u001b[39m\u001b[38;5;124mName\u001b[39m\u001b[38;5;124m'\u001b[39m],\n\u001b[0;32m      5\u001b[0m     df[\u001b[38;5;124m'\u001b[39m\u001b[38;5;124mPclass\u001b[39m\u001b[38;5;124m'\u001b[39m]\n\u001b[0;32m      6\u001b[0m })\n",
      "\u001b[1;31mTypeError\u001b[0m: unhashable type: 'Series'"
     ]
    }
   ],
   "source": [
    "#lets create new dataframe containing 'name' and 'Plcass' only\n",
    "import pandas as pd\n",
    "ordinal_data=pd.DataFrame({\n",
    "    df['Name'],\n",
    "    df['Pclass']\n",
    "})"
   ]
  },
  {
   "cell_type": "code",
   "execution_count": 51,
   "id": "5db99b03-24bb-458c-b0bc-130afb65683f",
   "metadata": {},
   "outputs": [],
   "source": [
    "#since idea of taking only two series or column because it no hashable. lets try other way by passing dictionary\n",
    "\n",
    "ordinal_data=pd.DataFrame({\n",
    "    'Name':df['Name'],\n",
    "    'Pclass':df['Pclass']\n",
    "})\n"
   ]
  },
  {
   "cell_type": "code",
   "execution_count": 53,
   "id": "73a44d6e-dac7-4961-874e-4f03011640db",
   "metadata": {},
   "outputs": [
    {
     "data": {
      "text/html": [
       "<div>\n",
       "<style scoped>\n",
       "    .dataframe tbody tr th:only-of-type {\n",
       "        vertical-align: middle;\n",
       "    }\n",
       "\n",
       "    .dataframe tbody tr th {\n",
       "        vertical-align: top;\n",
       "    }\n",
       "\n",
       "    .dataframe thead th {\n",
       "        text-align: right;\n",
       "    }\n",
       "</style>\n",
       "<table border=\"1\" class=\"dataframe\">\n",
       "  <thead>\n",
       "    <tr style=\"text-align: right;\">\n",
       "      <th></th>\n",
       "      <th>Name</th>\n",
       "      <th>Pclass</th>\n",
       "    </tr>\n",
       "  </thead>\n",
       "  <tbody>\n",
       "    <tr>\n",
       "      <th>0</th>\n",
       "      <td>Braund, Mr. Owen Harris</td>\n",
       "      <td>3</td>\n",
       "    </tr>\n",
       "    <tr>\n",
       "      <th>1</th>\n",
       "      <td>Cumings, Mrs. John Bradley (Florence Briggs Th...</td>\n",
       "      <td>1</td>\n",
       "    </tr>\n",
       "    <tr>\n",
       "      <th>2</th>\n",
       "      <td>Heikkinen, Miss. Laina</td>\n",
       "      <td>3</td>\n",
       "    </tr>\n",
       "    <tr>\n",
       "      <th>3</th>\n",
       "      <td>Futrelle, Mrs. Jacques Heath (Lily May Peel)</td>\n",
       "      <td>1</td>\n",
       "    </tr>\n",
       "    <tr>\n",
       "      <th>4</th>\n",
       "      <td>Allen, Mr. William Henry</td>\n",
       "      <td>3</td>\n",
       "    </tr>\n",
       "  </tbody>\n",
       "</table>\n",
       "</div>"
      ],
      "text/plain": [
       "                                                Name  Pclass\n",
       "0                            Braund, Mr. Owen Harris       3\n",
       "1  Cumings, Mrs. John Bradley (Florence Briggs Th...       1\n",
       "2                             Heikkinen, Miss. Laina       3\n",
       "3       Futrelle, Mrs. Jacques Heath (Lily May Peel)       1\n",
       "4                           Allen, Mr. William Henry       3"
      ]
     },
     "execution_count": 53,
     "metadata": {},
     "output_type": "execute_result"
    }
   ],
   "source": [
    "ordinal_data.head()"
   ]
  },
  {
   "cell_type": "code",
   "execution_count": 67,
   "id": "4852a67d-4cd1-45e6-b4c0-bf58f89ee5a4",
   "metadata": {},
   "outputs": [
    {
     "name": "stdout",
     "output_type": "stream",
     "text": [
      "[3, 1, 3, 1, 3, ..., 2, 1, 3, 1, 3]\n",
      "Length: 891\n",
      "Categories (3, int64): [1 < 2 < 3]\n"
     ]
    }
   ],
   "source": [
    "#lets convert to ordinal categorial data\n",
    "convert_ordinal=ordinal_data['Pclass']=pd.Categorical(df['Pclass'],categories=[1,2,3],ordered=True)\n",
    "print(convert_ordinal)"
   ]
  },
  {
   "cell_type": "code",
   "execution_count": 69,
   "id": "e47eee9e-4e07-458b-aab3-858823960eb2",
   "metadata": {},
   "outputs": [
    {
     "data": {
      "text/plain": [
       "pandas.core.arrays.categorical.Categorical"
      ]
     },
     "execution_count": 69,
     "metadata": {},
     "output_type": "execute_result"
    }
   ],
   "source": [
    "type(convert_ordinal)"
   ]
  },
  {
   "cell_type": "code",
   "execution_count": null,
   "id": "3ed59935-87f7-4cc8-b107-4260a7cbd9e3",
   "metadata": {},
   "outputs": [],
   "source": []
  }
 ],
 "metadata": {
  "kernelspec": {
   "display_name": "Python [conda env:base] *",
   "language": "python",
   "name": "conda-base-py"
  },
  "language_info": {
   "codemirror_mode": {
    "name": "ipython",
    "version": 3
   },
   "file_extension": ".py",
   "mimetype": "text/x-python",
   "name": "python",
   "nbconvert_exporter": "python",
   "pygments_lexer": "ipython3",
   "version": "3.12.7"
  }
 },
 "nbformat": 4,
 "nbformat_minor": 5
}
