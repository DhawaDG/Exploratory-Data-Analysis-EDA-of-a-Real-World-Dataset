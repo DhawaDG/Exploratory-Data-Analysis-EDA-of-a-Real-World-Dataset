{
 "cells": [
  {
   "cell_type": "markdown",
   "id": "a1a370e9-f240-42e2-b7f4-601e2bf9338d",
   "metadata": {},
   "source": [
    "### Estimates of Location"
   ]
  },
  {
   "cell_type": "markdown",
   "id": "4e5059f6-4c43-434b-924a-f5c354a7b230",
   "metadata": {},
   "source": [
    "Estimates of loacation measures that describes the central tendency of a dataset.\n",
    "1. mean -->> the average value\n",
    "2. median -->> the middle value in a sorted dataset\n",
    "3. trimmed mean -->> the mean after dropping a fixed no. of extreme values\n",
    "4. weighted mean -->> the mean where each value is multiplied by a weight\n",
    "5. Outliers -->> A value that is very different from most of the data\n"
   ]
  },
  {
   "cell_type": "code",
   "execution_count": 5,
   "id": "a4eebfcf-f5cb-483b-98a6-de716213f1aa",
   "metadata": {},
   "outputs": [
    {
     "data": {
      "text/html": [
       "<div>\n",
       "<style scoped>\n",
       "    .dataframe tbody tr th:only-of-type {\n",
       "        vertical-align: middle;\n",
       "    }\n",
       "\n",
       "    .dataframe tbody tr th {\n",
       "        vertical-align: top;\n",
       "    }\n",
       "\n",
       "    .dataframe thead th {\n",
       "        text-align: right;\n",
       "    }\n",
       "</style>\n",
       "<table border=\"1\" class=\"dataframe\">\n",
       "  <thead>\n",
       "    <tr style=\"text-align: right;\">\n",
       "      <th></th>\n",
       "      <th>PassengerId</th>\n",
       "      <th>Survived</th>\n",
       "      <th>Pclass</th>\n",
       "      <th>Name</th>\n",
       "      <th>Sex</th>\n",
       "      <th>Age</th>\n",
       "      <th>SibSp</th>\n",
       "      <th>Parch</th>\n",
       "      <th>Ticket</th>\n",
       "      <th>Fare</th>\n",
       "      <th>Cabin</th>\n",
       "      <th>Embarked</th>\n",
       "    </tr>\n",
       "  </thead>\n",
       "  <tbody>\n",
       "    <tr>\n",
       "      <th>0</th>\n",
       "      <td>1</td>\n",
       "      <td>0</td>\n",
       "      <td>3</td>\n",
       "      <td>Braund, Mr. Owen Harris</td>\n",
       "      <td>male</td>\n",
       "      <td>22.0</td>\n",
       "      <td>1</td>\n",
       "      <td>0</td>\n",
       "      <td>A/5 21171</td>\n",
       "      <td>7.2500</td>\n",
       "      <td>NaN</td>\n",
       "      <td>S</td>\n",
       "    </tr>\n",
       "    <tr>\n",
       "      <th>1</th>\n",
       "      <td>2</td>\n",
       "      <td>1</td>\n",
       "      <td>1</td>\n",
       "      <td>Cumings, Mrs. John Bradley (Florence Briggs Th...</td>\n",
       "      <td>female</td>\n",
       "      <td>38.0</td>\n",
       "      <td>1</td>\n",
       "      <td>0</td>\n",
       "      <td>PC 17599</td>\n",
       "      <td>71.2833</td>\n",
       "      <td>C85</td>\n",
       "      <td>C</td>\n",
       "    </tr>\n",
       "    <tr>\n",
       "      <th>2</th>\n",
       "      <td>3</td>\n",
       "      <td>1</td>\n",
       "      <td>3</td>\n",
       "      <td>Heikkinen, Miss. Laina</td>\n",
       "      <td>female</td>\n",
       "      <td>26.0</td>\n",
       "      <td>0</td>\n",
       "      <td>0</td>\n",
       "      <td>STON/O2. 3101282</td>\n",
       "      <td>7.9250</td>\n",
       "      <td>NaN</td>\n",
       "      <td>S</td>\n",
       "    </tr>\n",
       "    <tr>\n",
       "      <th>3</th>\n",
       "      <td>4</td>\n",
       "      <td>1</td>\n",
       "      <td>1</td>\n",
       "      <td>Futrelle, Mrs. Jacques Heath (Lily May Peel)</td>\n",
       "      <td>female</td>\n",
       "      <td>35.0</td>\n",
       "      <td>1</td>\n",
       "      <td>0</td>\n",
       "      <td>113803</td>\n",
       "      <td>53.1000</td>\n",
       "      <td>C123</td>\n",
       "      <td>S</td>\n",
       "    </tr>\n",
       "    <tr>\n",
       "      <th>4</th>\n",
       "      <td>5</td>\n",
       "      <td>0</td>\n",
       "      <td>3</td>\n",
       "      <td>Allen, Mr. William Henry</td>\n",
       "      <td>male</td>\n",
       "      <td>35.0</td>\n",
       "      <td>0</td>\n",
       "      <td>0</td>\n",
       "      <td>373450</td>\n",
       "      <td>8.0500</td>\n",
       "      <td>NaN</td>\n",
       "      <td>S</td>\n",
       "    </tr>\n",
       "  </tbody>\n",
       "</table>\n",
       "</div>"
      ],
      "text/plain": [
       "   PassengerId  Survived  Pclass  \\\n",
       "0            1         0       3   \n",
       "1            2         1       1   \n",
       "2            3         1       3   \n",
       "3            4         1       1   \n",
       "4            5         0       3   \n",
       "\n",
       "                                                Name     Sex   Age  SibSp  \\\n",
       "0                            Braund, Mr. Owen Harris    male  22.0      1   \n",
       "1  Cumings, Mrs. John Bradley (Florence Briggs Th...  female  38.0      1   \n",
       "2                             Heikkinen, Miss. Laina  female  26.0      0   \n",
       "3       Futrelle, Mrs. Jacques Heath (Lily May Peel)  female  35.0      1   \n",
       "4                           Allen, Mr. William Henry    male  35.0      0   \n",
       "\n",
       "   Parch            Ticket     Fare Cabin Embarked  \n",
       "0      0         A/5 21171   7.2500   NaN        S  \n",
       "1      0          PC 17599  71.2833   C85        C  \n",
       "2      0  STON/O2. 3101282   7.9250   NaN        S  \n",
       "3      0            113803  53.1000  C123        S  \n",
       "4      0            373450   8.0500   NaN        S  "
      ]
     },
     "execution_count": 5,
     "metadata": {},
     "output_type": "execute_result"
    }
   ],
   "source": [
    "import pandas as pd\n",
    "df=pd.read_csv('titanic.csv')\n",
    "df.head()"
   ]
  },
  {
   "cell_type": "code",
   "execution_count": 7,
   "id": "ad5e5e5f-873d-4657-8bea-787d206eddff",
   "metadata": {},
   "outputs": [
    {
     "data": {
      "text/plain": [
       "0     7.2500\n",
       "1    71.2833\n",
       "2     7.9250\n",
       "3    53.1000\n",
       "4     8.0500\n",
       "Name: Fare, dtype: float64"
      ]
     },
     "execution_count": 7,
     "metadata": {},
     "output_type": "execute_result"
    }
   ],
   "source": [
    "#mean\n",
    "#lets the mean of column Fare\n",
    "data=df['Fare']\n",
    "data.head()"
   ]
  },
  {
   "cell_type": "code",
   "execution_count": 11,
   "id": "182fcb51-dc40-45d4-81d4-5ebcadc3bb27",
   "metadata": {},
   "outputs": [
    {
     "name": "stdout",
     "output_type": "stream",
     "text": [
      "Mean of Fare(Average) is :$32.204207968574636\n"
     ]
    }
   ],
   "source": [
    "import numpy as np\n",
    "mean=np.mean(data)\n",
    "print(f\"Mean of Fare(Average) is :${mean}\")"
   ]
  },
  {
   "cell_type": "code",
   "execution_count": 15,
   "id": "1a56fef3-ec98-49cb-aa98-2313964551e7",
   "metadata": {},
   "outputs": [
    {
     "name": "stdout",
     "output_type": "stream",
     "text": [
      "Mean of Fare(Middle value) is:$14.4542\n"
     ]
    }
   ],
   "source": [
    "#medion\n",
    "median=np.median(data)\n",
    "print(F\"Mean of Fare(Middle value) is:${median}\")"
   ]
  },
  {
   "cell_type": "code",
   "execution_count": 17,
   "id": "83e5ac92-56d2-4f0e-b1a9-a81b312232a4",
   "metadata": {},
   "outputs": [
    {
     "name": "stdout",
     "output_type": "stream",
     "text": [
      "trimmed mean is: $21.37871556802244\n"
     ]
    }
   ],
   "source": [
    "#trimmed_mean\n",
    "import scipy\n",
    "from scipy.stats import trim_mean\n",
    "\n",
    "trimmed_mean=trim_mean(data,proportiontocut=0.1) #0.1 = 10% of data is trimmed from each edge\n",
    "print(f\"trimmed mean is: ${trimmed_mean}\")"
   ]
  },
  {
   "cell_type": "code",
   "execution_count": 19,
   "id": "0856737c-e387-4348-8634-a066061cab75",
   "metadata": {},
   "outputs": [
    {
     "data": {
      "text/plain": [
       "0    22.0\n",
       "1    38.0\n",
       "2    26.0\n",
       "3    35.0\n",
       "4    35.0\n",
       "Name: Age, dtype: float64"
      ]
     },
     "execution_count": 19,
     "metadata": {},
     "output_type": "execute_result"
    }
   ],
   "source": [
    "#weighted mean\n",
    "#lets create wight data\n",
    "weight=df['Age']\n",
    "weight.head()"
   ]
  },
  {
   "cell_type": "code",
   "execution_count": 21,
   "id": "c162b6f2-42b9-420d-a5dd-4d6fcfded6cb",
   "metadata": {},
   "outputs": [
    {
     "name": "stdout",
     "output_type": "stream",
     "text": [
      "nan\n"
     ]
    }
   ],
   "source": [
    "weighted_mean=np.average(data,weights=weight)\n",
    "print(weighted_mean)"
   ]
  },
  {
   "cell_type": "markdown",
   "id": "1974730f-84bc-4b34-bb4e-55e1d381c34e",
   "metadata": {},
   "source": [
    "## missing Value\n"
   ]
  },
  {
   "cell_type": "markdown",
   "id": "bccd98e2-90c4-486c-a5d0-39a0a6d492c0",
   "metadata": {},
   "source": [
    "Missing value are the nan value on dataset. As you can see we encounter nan output where either column Age or Fare must consist nan value so output is affected . lets try to handle missing value."
   ]
  },
  {
   "cell_type": "code",
   "execution_count": 27,
   "id": "1d5c79ac-30dd-4be2-ad04-93ee1f8473b9",
   "metadata": {},
   "outputs": [
    {
     "data": {
      "text/plain": [
       "PassengerId      0\n",
       "Survived         0\n",
       "Pclass           0\n",
       "Name             0\n",
       "Sex              0\n",
       "Age            177\n",
       "SibSp            0\n",
       "Parch            0\n",
       "Ticket           0\n",
       "Fare             0\n",
       "Cabin          687\n",
       "Embarked         2\n",
       "dtype: int64"
      ]
     },
     "execution_count": 27,
     "metadata": {},
     "output_type": "execute_result"
    }
   ],
   "source": [
    "df.isnull().sum()"
   ]
  },
  {
   "cell_type": "code",
   "execution_count": 31,
   "id": "5eb73611-fbff-44b3-a52b-30ae4ab9cad4",
   "metadata": {},
   "outputs": [],
   "source": [
    "#as you can see Age consist of !77 missing value lets handle it.\n"
   ]
  },
  {
   "cell_type": "code",
   "execution_count": 35,
   "id": "63632344-97e5-46a1-9c21-71674abe0f68",
   "metadata": {},
   "outputs": [
    {
     "data": {
      "text/plain": [
       "PassengerId      0\n",
       "Survived         0\n",
       "Pclass           0\n",
       "Name             0\n",
       "Sex              0\n",
       "Age              0\n",
       "SibSp            0\n",
       "Parch            0\n",
       "Ticket           0\n",
       "Fare             0\n",
       "Cabin          687\n",
       "Embarked         2\n",
       "dtype: int64"
      ]
     },
     "execution_count": 35,
     "metadata": {},
     "output_type": "execute_result"
    }
   ],
   "source": [
    "df['Age'].fillna(0,inplace=True)\n",
    "df.isnull().sum()"
   ]
  },
  {
   "cell_type": "code",
   "execution_count": 37,
   "id": "07412e5e-b24b-4ab9-9188-54cb5a025637",
   "metadata": {},
   "outputs": [],
   "source": [
    "#now you see Age have Zero missing value .. Here Nan values are handled."
   ]
  },
  {
   "cell_type": "code",
   "execution_count": 39,
   "id": "a7ce6e34-a1ad-4c91-9f93-6d969200b6e0",
   "metadata": {},
   "outputs": [
    {
     "name": "stdout",
     "output_type": "stream",
     "text": [
      "Weighted mean of two column Fare and Age is 37.177604603688636\n"
     ]
    }
   ],
   "source": [
    "#lets again try to calculate weighted mean\n",
    "import numpy as np\n",
    "data=df['Fare']\n",
    "weight=df['Age']\n",
    "\n",
    "weighted_mean=np.average(data, weights=weight)\n",
    "print(f\"Weighted mean of two column Fare and Age is {weighted_mean}\")"
   ]
  },
  {
   "cell_type": "markdown",
   "id": "95dca329-d729-49cc-a07b-d340c31911cf",
   "metadata": {},
   "source": [
    "## outliers\n",
    "here in tinanic dataset i dont find very different data from most of data means higher value data among most of data.lets create our own dataset.\n",
    "try to find how mean and median are robust(not sensitive) to outlier"
   ]
  },
  {
   "cell_type": "code",
   "execution_count": 42,
   "id": "40387c3d-178f-4eab-ad15-20aadb5dd004",
   "metadata": {},
   "outputs": [
    {
     "name": "stdout",
     "output_type": "stream",
     "text": [
      "Mean with outlier data is:19.166666666666668 and Median with outlier is:3.5\n"
     ]
    }
   ],
   "source": [
    "data_with_outlier=[1,2,3,4,5,100] #100 is outlier\n",
    "\n",
    "import numpy as np\n",
    "mean_outlier=np.mean(data_with_outlier)\n",
    "median_outlier=np.median(data_with_outlier)\n",
    "\n",
    "print(f\"Mean with outlier data is:{mean_outlier} and Median with outlier is:{median_outlier}\")"
   ]
  },
  {
   "cell_type": "code",
   "execution_count": null,
   "id": "03d0f2f9-98b7-491e-bbc2-67b6987eaf50",
   "metadata": {},
   "outputs": [],
   "source": [
    "#here Mean is more likly affected and Median is not affected by Outliers. Hence Median is robust to outlier and Mean is not robust outlier"
   ]
  },
  {
   "cell_type": "code",
   "execution_count": null,
   "id": "163c26cf-9318-4545-b105-4d087d32f19d",
   "metadata": {},
   "outputs": [],
   "source": []
  },
  {
   "cell_type": "code",
   "execution_count": null,
   "id": "4fb77676-a767-41f7-8629-319899ede995",
   "metadata": {},
   "outputs": [],
   "source": []
  },
  {
   "cell_type": "code",
   "execution_count": null,
   "id": "72c0be6b-c9f9-4d28-809b-9426e96dde5d",
   "metadata": {},
   "outputs": [],
   "source": []
  }
 ],
 "metadata": {
  "kernelspec": {
   "display_name": "Python [conda env:base] *",
   "language": "python",
   "name": "conda-base-py"
  },
  "language_info": {
   "codemirror_mode": {
    "name": "ipython",
    "version": 3
   },
   "file_extension": ".py",
   "mimetype": "text/x-python",
   "name": "python",
   "nbconvert_exporter": "python",
   "pygments_lexer": "ipython3",
   "version": "3.12.7"
  }
 },
 "nbformat": 4,
 "nbformat_minor": 5
}
