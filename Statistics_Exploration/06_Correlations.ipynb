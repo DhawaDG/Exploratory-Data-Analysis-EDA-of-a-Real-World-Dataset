{
 "cells": [
  {
   "cell_type": "markdown",
   "id": "6e5680e8-a9b2-4a58-9bb8-3e77eee2ddb1",
   "metadata": {},
   "source": [
    "## Correlations"
   ]
  },
  {
   "cell_type": "markdown",
   "id": "e466240f-e52b-4990-82c9-f19cbc481422",
   "metadata": {},
   "source": [
    "Correlations measures the relationship between two variables. It shows how changes in one variable are associated with changes in\n",
    "another. Examples If you study well chances of better mark is probable, cloud in sky determines whether you have to carry umbrella or not. Let's move forward in types of correlation based on Computation.\n",
    "1. Pearson's Correlation \n",
    "2. Spearman's Rank Correlation(Non- Parameteric)\n",
    "3. kendall's Tau Correlations(Non- Parameteric)"
   ]
  },
  {
   "cell_type": "markdown",
   "id": "587a88b0-1d3a-4d1d-841d-818cec24543b",
   "metadata": {},
   "source": [
    "## Pearson's Correlation "
   ]
  },
  {
   "cell_type": "markdown",
   "id": "d5457b4f-1c83-4239-b46b-5d10810aaaf6",
   "metadata": {},
   "source": [
    "Pearson's correlation(r) measures the linear relationship between two continuous variables.It tells us\n",
    "1. How strong the relationship is\n",
    "2. whether the relationship is positive or negative\n",
    "\n",
    "The coefficient r ranges from -1 to 1\n",
    "1. +1 -> Perfect positive correlation(e.g. Studytime & exam score)\n",
    "2. -1 -> Perfect negative correlation(e.g. Price of good & supply)\n",
    "3. 0  -> No correlation( which gives random scatter plot)\n",
    "\n",
    "lets try to implement using Titanic dataset"
   ]
  },
  {
   "cell_type": "code",
   "execution_count": 7,
   "id": "a8c6ae0c-0719-469b-a542-bfb370aaeaec",
   "metadata": {},
   "outputs": [
    {
     "data": {
      "text/html": [
       "<div>\n",
       "<style scoped>\n",
       "    .dataframe tbody tr th:only-of-type {\n",
       "        vertical-align: middle;\n",
       "    }\n",
       "\n",
       "    .dataframe tbody tr th {\n",
       "        vertical-align: top;\n",
       "    }\n",
       "\n",
       "    .dataframe thead th {\n",
       "        text-align: right;\n",
       "    }\n",
       "</style>\n",
       "<table border=\"1\" class=\"dataframe\">\n",
       "  <thead>\n",
       "    <tr style=\"text-align: right;\">\n",
       "      <th></th>\n",
       "      <th>PassengerId</th>\n",
       "      <th>Survived</th>\n",
       "      <th>Pclass</th>\n",
       "      <th>Name</th>\n",
       "      <th>Sex</th>\n",
       "      <th>Age</th>\n",
       "      <th>SibSp</th>\n",
       "      <th>Parch</th>\n",
       "      <th>Ticket</th>\n",
       "      <th>Fare</th>\n",
       "      <th>Cabin</th>\n",
       "      <th>Embarked</th>\n",
       "    </tr>\n",
       "  </thead>\n",
       "  <tbody>\n",
       "    <tr>\n",
       "      <th>0</th>\n",
       "      <td>1</td>\n",
       "      <td>0</td>\n",
       "      <td>3</td>\n",
       "      <td>Braund, Mr. Owen Harris</td>\n",
       "      <td>male</td>\n",
       "      <td>22.0</td>\n",
       "      <td>1</td>\n",
       "      <td>0</td>\n",
       "      <td>A/5 21171</td>\n",
       "      <td>7.2500</td>\n",
       "      <td>NaN</td>\n",
       "      <td>S</td>\n",
       "    </tr>\n",
       "    <tr>\n",
       "      <th>1</th>\n",
       "      <td>2</td>\n",
       "      <td>1</td>\n",
       "      <td>1</td>\n",
       "      <td>Cumings, Mrs. John Bradley (Florence Briggs Th...</td>\n",
       "      <td>female</td>\n",
       "      <td>38.0</td>\n",
       "      <td>1</td>\n",
       "      <td>0</td>\n",
       "      <td>PC 17599</td>\n",
       "      <td>71.2833</td>\n",
       "      <td>C85</td>\n",
       "      <td>C</td>\n",
       "    </tr>\n",
       "    <tr>\n",
       "      <th>2</th>\n",
       "      <td>3</td>\n",
       "      <td>1</td>\n",
       "      <td>3</td>\n",
       "      <td>Heikkinen, Miss. Laina</td>\n",
       "      <td>female</td>\n",
       "      <td>26.0</td>\n",
       "      <td>0</td>\n",
       "      <td>0</td>\n",
       "      <td>STON/O2. 3101282</td>\n",
       "      <td>7.9250</td>\n",
       "      <td>NaN</td>\n",
       "      <td>S</td>\n",
       "    </tr>\n",
       "    <tr>\n",
       "      <th>3</th>\n",
       "      <td>4</td>\n",
       "      <td>1</td>\n",
       "      <td>1</td>\n",
       "      <td>Futrelle, Mrs. Jacques Heath (Lily May Peel)</td>\n",
       "      <td>female</td>\n",
       "      <td>35.0</td>\n",
       "      <td>1</td>\n",
       "      <td>0</td>\n",
       "      <td>113803</td>\n",
       "      <td>53.1000</td>\n",
       "      <td>C123</td>\n",
       "      <td>S</td>\n",
       "    </tr>\n",
       "    <tr>\n",
       "      <th>4</th>\n",
       "      <td>5</td>\n",
       "      <td>0</td>\n",
       "      <td>3</td>\n",
       "      <td>Allen, Mr. William Henry</td>\n",
       "      <td>male</td>\n",
       "      <td>35.0</td>\n",
       "      <td>0</td>\n",
       "      <td>0</td>\n",
       "      <td>373450</td>\n",
       "      <td>8.0500</td>\n",
       "      <td>NaN</td>\n",
       "      <td>S</td>\n",
       "    </tr>\n",
       "  </tbody>\n",
       "</table>\n",
       "</div>"
      ],
      "text/plain": [
       "   PassengerId  Survived  Pclass  \\\n",
       "0            1         0       3   \n",
       "1            2         1       1   \n",
       "2            3         1       3   \n",
       "3            4         1       1   \n",
       "4            5         0       3   \n",
       "\n",
       "                                                Name     Sex   Age  SibSp  \\\n",
       "0                            Braund, Mr. Owen Harris    male  22.0      1   \n",
       "1  Cumings, Mrs. John Bradley (Florence Briggs Th...  female  38.0      1   \n",
       "2                             Heikkinen, Miss. Laina  female  26.0      0   \n",
       "3       Futrelle, Mrs. Jacques Heath (Lily May Peel)  female  35.0      1   \n",
       "4                           Allen, Mr. William Henry    male  35.0      0   \n",
       "\n",
       "   Parch            Ticket     Fare Cabin Embarked  \n",
       "0      0         A/5 21171   7.2500   NaN        S  \n",
       "1      0          PC 17599  71.2833   C85        C  \n",
       "2      0  STON/O2. 3101282   7.9250   NaN        S  \n",
       "3      0            113803  53.1000  C123        S  \n",
       "4      0            373450   8.0500   NaN        S  "
      ]
     },
     "execution_count": 7,
     "metadata": {},
     "output_type": "execute_result"
    }
   ],
   "source": [
    "import pandas as pd\n",
    "df=pd.read_csv('titanic.csv')\n",
    "df.head()"
   ]
  },
  {
   "cell_type": "markdown",
   "id": "96170c60-8973-44a4-b56f-dfb1de3cd885",
   "metadata": {},
   "source": [
    "lets try on two Column 'Pclass' and 'Fare', lets examine how they are correlated to each other means if Plclass 1,2,3, increase does Fare also increase \n",
    "with ticket class. "
   ]
  },
  {
   "cell_type": "code",
   "execution_count": 9,
   "id": "fac203d8-2773-4d71-942f-2fb18fe98197",
   "metadata": {
    "scrolled": true
   },
   "outputs": [
    {
     "name": "stdout",
     "output_type": "stream",
     "text": [
      "Pearson's correlation of two variable Pclass and Fare of titanic is: -0.549\n",
      "p-values:0.000\n"
     ]
    }
   ],
   "source": [
    "import scipy\n",
    "from scipy.stats import pearsonr\n",
    "\n",
    "#two variable\n",
    "ticket_category=df['Pclass']\n",
    "ticket_price=df['Fare']\n",
    "\n",
    "#lets compute Pearsons correlation and p-values\n",
    "\n",
    "r,p_value=pearsonr(ticket_category,ticket_price)\n",
    "\n",
    "print(f\"Pearson's correlation of two variable Pclass and Fare of titanic is: {r:.3f}\")\n",
    "\n",
    "print(f\"p-values:{p_value:.3f}\")\n"
   ]
  },
  {
   "cell_type": "markdown",
   "id": "c1a3367c-a190-4923-8a22-78e59e5295f2",
   "metadata": {},
   "source": [
    "## Observation"
   ]
  },
  {
   "cell_type": "markdown",
   "id": "99fbad7f-d058-466a-bdfe-0dedcad791f5",
   "metadata": {},
   "source": [
    "Negative sign indicates that two variable inverse relations. That is as class 1>2>3 , 1=top class, As a class decreases Fare of\n",
    "ship also decreases. Minus 0.549(-0.3 to - 0.7 belongs to moderate negative) is moderate negative means variable Pclass and Fare are moderately Negatively correlated. To know Coefficuent Interpretation(weak,moderate,strong) you can goggle it."
   ]
  },
  {
   "cell_type": "markdown",
   "id": "26a3ebc0-802b-4d23-becb-2bcde119a07d",
   "metadata": {},
   "source": [
    "Note: Where,\n",
    "1. P_value tells us if a correlation is statistically significant.\n",
    "2. if p_value < 0.05, we reject the null hypothesis(strong evidence of correlation)\n",
    "3. if p_value > 0.05, the correlations might be random(not significant)"
   ]
  },
  {
   "cell_type": "code",
   "execution_count": 23,
   "id": "07bdff5d-2c5f-446c-9939-a45c4b7ea410",
   "metadata": {},
   "outputs": [],
   "source": [
    "#we try to find variable correlation mathematically. Now lets try it graphically using Scatterplots"
   ]
  },
  {
   "cell_type": "markdown",
   "id": "1168eda5-c591-4a0d-9e47-ac5ceb2c142f",
   "metadata": {},
   "source": [
    "## ScatterPlots"
   ]
  },
  {
   "cell_type": "markdown",
   "id": "1b21a3ab-afd1-429a-aedc-d0e24fe538ff",
   "metadata": {},
   "source": [
    "A scatterplot is a fundamental data visualization tool that display the relationship between two numerical variables by representing each observation as a point on a 2D plate.\n",
    "1. x-axis:Represent the independent/predictor variable.\n",
    "2. y-axis:Represent the dependent/response variable.\n",
    "3. Each point: One observation/records in the dataset.\n",
    "\n",
    "Key Feature of Scatterplots:\n",
    "\n",
    "1. Directions\n",
    "   1. positive(upward trend)\n",
    "   2. Negative(downward trend)\n",
    "   3. No Clear direction\n",
    "\n",
    "2. Strength\n",
    "   1. Tight clustering indicates strong relationship\n",
    "   2. Wide dispersion indicates weak relationship\n",
    "\n",
    "3. Form\n",
    "   1. Linear\n",
    "   2. Curved\n",
    "   3. Clustered\n",
    "   4. No Pattern\n",
    "\n",
    "\n",
    "\n",
    "\n",
    "4. Outliers\n",
    "   1. points\n",
    "   "
   ]
  },
  {
   "cell_type": "markdown",
   "id": "21c8c88b-eb7b-4ce1-b6cd-dd2219298f95",
   "metadata": {},
   "source": [
    "### Pearson's Scatter Plots"
   ]
  },
  {
   "cell_type": "code",
   "execution_count": 66,
   "id": "3ac38238-9709-4ceb-aa5d-3df9f9f80d08",
   "metadata": {},
   "outputs": [
    {
     "data": {
      "image/png": "[encoded data removed]",
      "text/plain": [
       "<Figure size 900x700 with 1 Axes>"
      ]
     },
     "metadata": {},
     "output_type": "display_data"
    }
   ],
   "source": [
    "\n",
    "import matplotlib.pyplot as plt\n",
    "import seaborn as sns\n",
    "\n",
    "#scatter plot\n",
    "plt.figure(figsize=(9,7))\n",
    "sns.scatterplot(x=df['Pclass'],y=df['Fare'], color='red')\n",
    "\n",
    "#labels and Title\n",
    "plt.xlabel(\"Class(luxury)\")\n",
    "plt.ylabel(\"Price of Ticket(Dollor)\")\n",
    "plt.title(\"Pearson's Scatterplot: Class vs. Price\")\n",
    "\n",
    "#show grid\n",
    "plt.grid(True)\n",
    "\n",
    "\n",
    "plt.savefig(\"Pearson_Scatterplot_Class_vs_Price.png\")\n",
    "#show the plot\n",
    "plt.show()"
   ]
  },
  {
   "cell_type": "markdown",
   "id": "306388c6-459a-42b6-b3cd-90b00dc64372",
   "metadata": {},
   "source": [
    "### Spearman's Rank Correlation(Non- Parameteric)"
   ]
  },
  {
   "cell_type": "markdown",
   "id": "67256d41-70a7-49b0-8dd4-d31d5ca7b1ab",
   "metadata": {},
   "source": [
    "Spearman's correlation is used to measure the strength and direction of a monotonic relationship(as one variable increases, the other consistently increase or decrease) between two variables. Unlike Pearson's correlation(which measure linear relationship), spearman work with ordinal data."
   ]
  },
  {
   "cell_type": "code",
   "execution_count": 18,
   "id": "02e4d084-be9d-484f-86d6-d12c9624ca16",
   "metadata": {},
   "outputs": [
    {
     "name": "stdout",
     "output_type": "stream",
     "text": [
      "Spearson's correlations coeffiicient:nan\n",
      "P_value:nan\n"
     ]
    }
   ],
   "source": [
    "#lets examine the relatiionship between Age and Survival rates , how they act? chances of surival is directly dependent on age of passenger  or not\n",
    "\n",
    "import scipy.stats as stats\n",
    "\n",
    "age=df['Age']\n",
    "\n",
    "survived=df['Survived']\n",
    "\n",
    "#compute Spearson's correlations\n",
    "\n",
    "spearman_corr,p_value=stats.spearmanr(age,survived)\n",
    "\n",
    "print(f\"Spearson's correlations coeffiicient:{spearman_corr:.3f}\")\n",
    "\n",
    "print(f\"P_value:{p_value:.3f}\")"
   ]
  },
  {
   "cell_type": "code",
   "execution_count": 20,
   "id": "ab4a30ba-7558-4ce0-8e4b-261b3ca56565",
   "metadata": {},
   "outputs": [
    {
     "data": {
      "text/plain": [
       "PassengerId      0\n",
       "Survived         0\n",
       "Pclass           0\n",
       "Name             0\n",
       "Sex              0\n",
       "Age            177\n",
       "SibSp            0\n",
       "Parch            0\n",
       "Ticket           0\n",
       "Fare             0\n",
       "Cabin          687\n",
       "Embarked         2\n",
       "dtype: int64"
      ]
     },
     "execution_count": 20,
     "metadata": {},
     "output_type": "execute_result"
    }
   ],
   "source": [
    "#output is nan , lets check if columns consist a nan value\n",
    "\n",
    "df.isnull().sum()"
   ]
  },
  {
   "cell_type": "code",
   "execution_count": 24,
   "id": "2aca3ba2-65e8-420b-beb4-838157f4e8b1",
   "metadata": {},
   "outputs": [
    {
     "data": {
      "text/plain": [
       "PassengerId      0\n",
       "Survived         0\n",
       "Pclass           0\n",
       "Name             0\n",
       "Sex              0\n",
       "Age              0\n",
       "SibSp            0\n",
       "Parch            0\n",
       "Ticket           0\n",
       "Fare             0\n",
       "Cabin          687\n",
       "Embarked         2\n",
       "dtype: int64"
      ]
     },
     "execution_count": 24,
     "metadata": {},
     "output_type": "execute_result"
    }
   ],
   "source": [
    "#so Age consist 177 nan value , lets handle them\n",
    "\n",
    "df['Age'].fillna(0,inplace=True)\n",
    "df.isnull().sum()"
   ]
  },
  {
   "cell_type": "code",
   "execution_count": 26,
   "id": "760ba8cb-da3b-43f9-a6dc-64f7cdae7ed7",
   "metadata": {},
   "outputs": [
    {
     "name": "stdout",
     "output_type": "stream",
     "text": [
      "Spearson's correlations coeffiicient:0.030\n",
      "P_value:0.375\n"
     ]
    }
   ],
   "source": [
    "#nan value of column is handled, lets calculate spearson again\n",
    "age=df['Age']\n",
    "\n",
    "survived=df['Survived']\n",
    "\n",
    "#compute Spearson's correlations\n",
    "\n",
    "spearman_corr,p_value=stats.spearmanr(age,survived)\n",
    "\n",
    "print(f\"Spearson's correlations coeffiicient:{spearman_corr:.3f}\")\n",
    "\n",
    "print(f\"P_value:{p_value:.3f}\")\n"
   ]
  },
  {
   "cell_type": "markdown",
   "id": "eef8b9a6-9b03-49fb-bf3b-4d743cc02bfd",
   "metadata": {},
   "source": [
    "## Oservations "
   ]
  },
  {
   "cell_type": "markdown",
   "id": "d4c83ad1-ccc0-4229-bbf9-8e7b9fcfe3b2",
   "metadata": {},
   "source": [
    "Correlation Coefficient = 0.030\n",
    "The value is very close to 0, indicating an extremely weak monotonic relationship between age and survival.\n",
    "Direction: Slightly positive, meaning older passengers had a tiny tendency to survive more, but this is negligible.\n",
    "The p-value is > 0.05 (common significance threshold), meaning we fail to reject the null hypothesis.\n",
    "\n",
    "Conclusion: There is no statistically significant correlation between age and survival in this dataset"
   ]
  },
  {
   "cell_type": "markdown",
   "id": "9a91006f-636d-4a96-a134-7187695515d2",
   "metadata": {},
   "source": [
    "### scatterplot"
   ]
  },
  {
   "cell_type": "code",
   "execution_count": 70,
   "id": "27253375-d6c7-4d6b-91b7-8e28fbebcb1e",
   "metadata": {},
   "outputs": [
    {
     "data": {
      "image/png": "[encoded data removed]",
      "text/plain": [
       "<Figure size 800x600 with 1 Axes>"
      ]
     },
     "metadata": {},
     "output_type": "display_data"
    }
   ],
   "source": [
    "import matplotlib.pyplot as plt\n",
    "import seaborn as sns\n",
    "\n",
    "# Scatter plot\n",
    "plt.figure(figsize=(8, 6))\n",
    "sns.scatterplot(x=age, y=survived, color='blue')\n",
    "\n",
    "# Labels and Title\n",
    "plt.xlabel(\"Age of Passenger(Yr)\")\n",
    "plt.ylabel(\"Survival Rate(%)\")\n",
    "plt.title(\"Spearman's Rank Scatterplot: Age vs. Survival\")\n",
    "\n",
    "# Show grid\n",
    "plt.grid(True)\n",
    "\n",
    "plt.savefig(\"Spearman_Rank_Scatterplot_Age_vs_Survival.png\")\n",
    "\n",
    "# Show the plot\n",
    "plt.show()"
   ]
  },
  {
   "cell_type": "markdown",
   "id": "5f2ed473-c133-4a73-9602-1c11603f7d6b",
   "metadata": {},
   "source": [
    "### Kendall's Tau Correlation(Non-Parametric)"
   ]
  },
  {
   "cell_type": "markdown",
   "id": "8a250bc8-02e3-492e-aa9e-b160c363263c",
   "metadata": {},
   "source": [
    "Kendal Tau(r) is a non-parametric measure of correlation that evaluate the strengh of the relationship between two ranked variable. It is similar to Spearman's Rank Correlation but is often more reliable for smaller datasets and handle tied ranks better."
   ]
  },
  {
   "cell_type": "code",
   "execution_count": 38,
   "id": "3980c14a-23b9-405c-980c-09801d5effa4",
   "metadata": {},
   "outputs": [
    {
     "data": {
      "text/plain": [
       "0      0\n",
       "1      1\n",
       "2      1\n",
       "3      1\n",
       "4      0\n",
       "      ..\n",
       "886    0\n",
       "887    1\n",
       "888    1\n",
       "889    0\n",
       "890    0\n",
       "Name: encoded_sex, Length: 891, dtype: int64"
      ]
     },
     "execution_count": 38,
     "metadata": {},
     "output_type": "execute_result"
    }
   ],
   "source": [
    "#lets try to find this correlation on Sex and Survived\n",
    "\n",
    "#But Sex Column is categorical, lets try to encode with pandas map()\n",
    "\n",
    "\n",
    "\n",
    "import pandas as pd\n",
    "\n",
    "df['encoded_sex']=df['Sex'].map({'male':0,'female':1})\n",
    "\n",
    "df['encoded_sex']\n"
   ]
  },
  {
   "cell_type": "code",
   "execution_count": 40,
   "id": "61cd4617-830c-463b-9a7f-4253389412ce",
   "metadata": {},
   "outputs": [
    {
     "name": "stdout",
     "output_type": "stream",
     "text": [
      "Kendall Tau coefficient is:0.543\n",
      "p_value is :0.000\n"
     ]
    }
   ],
   "source": [
    "#lets examine this data in Kendall's Tau coefficient\n",
    "\n",
    "tau,p_value=stats.kendalltau(df['encoded_sex'],df['Survived'])\n",
    "\n",
    "print(f\"Kendall Tau coefficient is:{tau:.3f}\")\n",
    "\n",
    "print(f\"p_value is :{p_value:.3f}\")"
   ]
  },
  {
   "cell_type": "markdown",
   "id": "32abddfa-a3d7-499d-a5f7-bf2a93e63466",
   "metadata": {},
   "source": [
    "### Observation "
   ]
  },
  {
   "cell_type": "markdown",
   "id": "1138bbb8-c37e-4cf6-af1f-6c766bb55341",
   "metadata": {},
   "source": [
    "Women (encoded_sex=1) were significantly more likely to survive than men (encoded_sex=0).This aligns with the historical \"women and children first\" policy on the Titanic.p-value < 0.05: Reject the null hypothesis (no association).\n",
    "\n",
    "Conclusion: The correlation between sex and survival is statistically significant.\n",
    "Note: A p-value of 0.000 means the result is extremely unlikely under the null hypothesis."
   ]
  },
  {
   "cell_type": "code",
   "execution_count": 72,
   "id": "b4374016-3d2c-4333-ad12-be17313e411c",
   "metadata": {},
   "outputs": [
    {
     "data": {
      "image/png": "[encoded data removed]",
      "text/plain": [
       "<Figure size 800x600 with 1 Axes>"
      ]
     },
     "metadata": {},
     "output_type": "display_data"
    }
   ],
   "source": [
    "# Scatter plot\n",
    "plt.figure(figsize=(8, 6))\n",
    "sns.scatterplot(x=df['encoded_sex'], y=df['Survived'], color='blue')\n",
    "\n",
    "# Labels and Title\n",
    "plt.xlabel(\"Sex(M/F)\")\n",
    "plt.ylabel(\"Survival rate\")\n",
    "plt.title(\"Kendall's Tau Scatterplot: Sex vs. Survival rate\")\n",
    "\n",
    "# Show grid\n",
    "plt.grid(True)\n",
    "\n",
    "\n",
    "plt.savefig(\"Kendall_Tau_Scatterplot_Sex_vs_Survival_rate.png\")\n",
    "\n",
    "# Show the plot\n",
    "plt.show()\n"
   ]
  },
  {
   "cell_type": "code",
   "execution_count": null,
   "id": "244b69f1-3919-449c-a892-0c99c4011f7f",
   "metadata": {},
   "outputs": [],
   "source": []
  }
 ],
 "metadata": {
  "kernelspec": {
   "display_name": "Python [conda env:base] *",
   "language": "python",
   "name": "conda-base-py"
  },
  "language_info": {
   "codemirror_mode": {
    "name": "ipython",
    "version": 3
   },
   "file_extension": ".py",
   "mimetype": "text/x-python",
   "name": "python",
   "nbconvert_exporter": "python",
   "pygments_lexer": "ipython3",
   "version": "3.12.7"
  }
 },
 "nbformat": 4,
 "nbformat_minor": 5
}
