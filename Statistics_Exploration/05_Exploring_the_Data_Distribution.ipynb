{
 "cells": [
  {
   "cell_type": "markdown",
   "id": "7c17621a-a88c-4427-b7a1-ea92897b6c64",
   "metadata": {},
   "source": [
    "## Exploring the Data Distribution"
   ]
  },
  {
   "cell_type": "markdown",
   "id": "e2465a71-a359-44be-a0e1-0fd88d28f4c8",
   "metadata": {},
   "source": [
    "1. Percentiles and Boxplot\n",
    "2. Frequency Table, Histogram and Density Histogram"
   ]
  },
  {
   "cell_type": "markdown",
   "id": "f3a45cc8-ec11-4c4c-a6da-0e68ad938ef7",
   "metadata": {},
   "source": [
    "## 1. Percentiles and Boxplot "
   ]
  },
  {
   "cell_type": "markdown",
   "id": "385f4c75-b370-4e36-bf48-dacbe1639db1",
   "metadata": {},
   "source": [
    "Percentiles divide your data into 100 equal parts key percentiles.\n",
    "1. 25th percentiles(Q1): 25% of data below this below\n",
    "2. 50th percentiles(median): The middle value\n",
    "3. 75th percentiles(Q3): 75% of districts have population below this value\n",
    "4. IQR(InterQuartileRange):Q3-Q1(spread of middle 60% of data)\n"
   ]
  },
  {
   "cell_type": "code",
   "execution_count": 11,
   "id": "7f9ea8b7-18e2-403e-852e-b92a31701791",
   "metadata": {},
   "outputs": [
    {
     "data": {
      "text/html": [
       "<div>\n",
       "<style scoped>\n",
       "    .dataframe tbody tr th:only-of-type {\n",
       "        vertical-align: middle;\n",
       "    }\n",
       "\n",
       "    .dataframe tbody tr th {\n",
       "        vertical-align: top;\n",
       "    }\n",
       "\n",
       "    .dataframe thead th {\n",
       "        text-align: right;\n",
       "    }\n",
       "</style>\n",
       "<table border=\"1\" class=\"dataframe\">\n",
       "  <thead>\n",
       "    <tr style=\"text-align: right;\">\n",
       "      <th></th>\n",
       "      <th>PassengerId</th>\n",
       "      <th>Survived</th>\n",
       "      <th>Pclass</th>\n",
       "      <th>Name</th>\n",
       "      <th>Sex</th>\n",
       "      <th>Age</th>\n",
       "      <th>SibSp</th>\n",
       "      <th>Parch</th>\n",
       "      <th>Ticket</th>\n",
       "      <th>Fare</th>\n",
       "      <th>Cabin</th>\n",
       "      <th>Embarked</th>\n",
       "    </tr>\n",
       "  </thead>\n",
       "  <tbody>\n",
       "    <tr>\n",
       "      <th>0</th>\n",
       "      <td>1</td>\n",
       "      <td>0</td>\n",
       "      <td>3</td>\n",
       "      <td>Braund, Mr. Owen Harris</td>\n",
       "      <td>male</td>\n",
       "      <td>22.0</td>\n",
       "      <td>1</td>\n",
       "      <td>0</td>\n",
       "      <td>A/5 21171</td>\n",
       "      <td>7.2500</td>\n",
       "      <td>NaN</td>\n",
       "      <td>S</td>\n",
       "    </tr>\n",
       "    <tr>\n",
       "      <th>1</th>\n",
       "      <td>2</td>\n",
       "      <td>1</td>\n",
       "      <td>1</td>\n",
       "      <td>Cumings, Mrs. John Bradley (Florence Briggs Th...</td>\n",
       "      <td>female</td>\n",
       "      <td>38.0</td>\n",
       "      <td>1</td>\n",
       "      <td>0</td>\n",
       "      <td>PC 17599</td>\n",
       "      <td>71.2833</td>\n",
       "      <td>C85</td>\n",
       "      <td>C</td>\n",
       "    </tr>\n",
       "    <tr>\n",
       "      <th>2</th>\n",
       "      <td>3</td>\n",
       "      <td>1</td>\n",
       "      <td>3</td>\n",
       "      <td>Heikkinen, Miss. Laina</td>\n",
       "      <td>female</td>\n",
       "      <td>26.0</td>\n",
       "      <td>0</td>\n",
       "      <td>0</td>\n",
       "      <td>STON/O2. 3101282</td>\n",
       "      <td>7.9250</td>\n",
       "      <td>NaN</td>\n",
       "      <td>S</td>\n",
       "    </tr>\n",
       "    <tr>\n",
       "      <th>3</th>\n",
       "      <td>4</td>\n",
       "      <td>1</td>\n",
       "      <td>1</td>\n",
       "      <td>Futrelle, Mrs. Jacques Heath (Lily May Peel)</td>\n",
       "      <td>female</td>\n",
       "      <td>35.0</td>\n",
       "      <td>1</td>\n",
       "      <td>0</td>\n",
       "      <td>113803</td>\n",
       "      <td>53.1000</td>\n",
       "      <td>C123</td>\n",
       "      <td>S</td>\n",
       "    </tr>\n",
       "    <tr>\n",
       "      <th>4</th>\n",
       "      <td>5</td>\n",
       "      <td>0</td>\n",
       "      <td>3</td>\n",
       "      <td>Allen, Mr. William Henry</td>\n",
       "      <td>male</td>\n",
       "      <td>35.0</td>\n",
       "      <td>0</td>\n",
       "      <td>0</td>\n",
       "      <td>373450</td>\n",
       "      <td>8.0500</td>\n",
       "      <td>NaN</td>\n",
       "      <td>S</td>\n",
       "    </tr>\n",
       "  </tbody>\n",
       "</table>\n",
       "</div>"
      ],
      "text/plain": [
       "   PassengerId  Survived  Pclass  \\\n",
       "0            1         0       3   \n",
       "1            2         1       1   \n",
       "2            3         1       3   \n",
       "3            4         1       1   \n",
       "4            5         0       3   \n",
       "\n",
       "                                                Name     Sex   Age  SibSp  \\\n",
       "0                            Braund, Mr. Owen Harris    male  22.0      1   \n",
       "1  Cumings, Mrs. John Bradley (Florence Briggs Th...  female  38.0      1   \n",
       "2                             Heikkinen, Miss. Laina  female  26.0      0   \n",
       "3       Futrelle, Mrs. Jacques Heath (Lily May Peel)  female  35.0      1   \n",
       "4                           Allen, Mr. William Henry    male  35.0      0   \n",
       "\n",
       "   Parch            Ticket     Fare Cabin Embarked  \n",
       "0      0         A/5 21171   7.2500   NaN        S  \n",
       "1      0          PC 17599  71.2833   C85        C  \n",
       "2      0  STON/O2. 3101282   7.9250   NaN        S  \n",
       "3      0            113803  53.1000  C123        S  \n",
       "4      0            373450   8.0500   NaN        S  "
      ]
     },
     "execution_count": 11,
     "metadata": {},
     "output_type": "execute_result"
    }
   ],
   "source": [
    "import pandas as pd\n",
    "df=pd.read_csv('titanic.csv')\n",
    "df.head()"
   ]
  },
  {
   "cell_type": "code",
   "execution_count": 21,
   "id": "5c582ee3-b94f-4a49-aa7b-c881f97bc37e",
   "metadata": {},
   "outputs": [
    {
     "name": "stdout",
     "output_type": "stream",
     "text": [
      "5th percentiles:7.22\n",
      "25th percentiles:7.91\n",
      "50th percentiles:14.45\n",
      "75th percentiles:31.00\n",
      "95th percentiles:112.08\n",
      "Inter Quartile Range(IQR):23.09\n"
     ]
    }
   ],
   "source": [
    "data=df['Fare']\n",
    "#lets try to implement above percentiles concepts\n",
    "import pandas \n",
    "\n",
    "percentiles=data.quantile([.05,.25,.5,.75,.95]) #quantiles() is pandas built-in functions\n",
    "print(f\"5th percentiles:{percentiles[0.05]:.2f}\")\n",
    "print(f\"25th percentiles:{percentiles[0.25]:.2f}\")\n",
    "print(f\"50th percentiles:{percentiles[0.50]:.2f}\")\n",
    "print(f\"75th percentiles:{percentiles[0.75]:.2f}\")\n",
    "print(f\"95th percentiles:{percentiles[0.95]:.2f}\")\n",
    "print(f\"Inter Quartile Range(IQR):{percentiles[0.75]-percentiles[0.25]:.2f}\")\n"
   ]
  },
  {
   "cell_type": "markdown",
   "id": "02af51f5-3c4d-490e-ad94-9d70ef147a34",
   "metadata": {},
   "source": [
    "In above you can get confused with 'percentiles=data.quantile([.05,.25,.5,.75,.95])' what code is doing to computes the specified percentiles. And percentiles[0.05] access the 5th percentiles and matches with your dataset from 'Data'"
   ]
  },
  {
   "cell_type": "code",
   "execution_count": 33,
   "id": "6858e588-595c-480f-be12-18c5d7924cf7",
   "metadata": {},
   "outputs": [
    {
     "data": {
      "text/plain": [
       "([], [])"
      ]
     },
     "execution_count": 33,
     "metadata": {},
     "output_type": "execute_result"
    },
    {
     "data": {
      "image/png": "[encoded data removed]",
      "text/plain": [
       "<Figure size 1500x500 with 1 Axes>"
      ]
     },
     "metadata": {},
     "output_type": "display_data"
    }
   ],
   "source": [
    "#Boxblot \n",
    "#lets try to plot boxplot\n",
    "#create boxplot\n",
    "\n",
    "import matplotlib.pyplot as plt\n",
    "\n",
    "plt.figure(figsize=(15,5))\n",
    "plt.boxplot(data/10,vert=False) #vert=False gives horzotally plotted boxplot. if True i gives Vertically plotted boxplot\n",
    "plt.title(\"Tinanic Fare Price\")\n",
    "plt.xlabel(\"Fare(in Two Digit/Tenth)\")\n",
    "plt.yticks([])"
   ]
  },
  {
   "cell_type": "markdown",
   "id": "02223749-7452-493a-a503-b65ec6e17552",
   "metadata": {},
   "source": [
    "Note: Vertical line of Edges represents minimum(starting data) and maximum (last data), horizontal Edges of rectangle represents\n",
    "Q1 and Q3 and middle red line represent median. Rest Dots are Outliers."
   ]
  },
  {
   "cell_type": "markdown",
   "id": "ba577354-bf70-4814-a64d-f8f7bf65cffd",
   "metadata": {},
   "source": [
    "## Frequency Table, Histogram and Density Histogram"
   ]
  },
  {
   "cell_type": "markdown",
   "id": "a31f9817-e87b-4930-b9a2-79c982d7fcf4",
   "metadata": {},
   "source": [
    "frequency table divides data into binns/range/group and counts how many values fall into each range.\n",
    "1. Bins-> is equally spaced intervals(e.g. 0-10,10-20,20-30 etc)\n",
    "2. Counts -> Numbers of districts in each bins\n",
    "3. Range -> Max or Min of data(0 is min and 100 is max in where 10 is equally spaced interals."
   ]
  },
  {
   "cell_type": "code",
   "execution_count": 37,
   "id": "995bc646-936f-417c-bb53-269972b4e2a9",
   "metadata": {},
   "outputs": [
    {
     "data": {
      "text/html": [
       "<div>\n",
       "<style scoped>\n",
       "    .dataframe tbody tr th:only-of-type {\n",
       "        vertical-align: middle;\n",
       "    }\n",
       "\n",
       "    .dataframe tbody tr th {\n",
       "        vertical-align: top;\n",
       "    }\n",
       "\n",
       "    .dataframe thead th {\n",
       "        text-align: right;\n",
       "    }\n",
       "</style>\n",
       "<table border=\"1\" class=\"dataframe\">\n",
       "  <thead>\n",
       "    <tr style=\"text-align: right;\">\n",
       "      <th></th>\n",
       "      <th>PassengerId</th>\n",
       "      <th>Survived</th>\n",
       "      <th>Pclass</th>\n",
       "      <th>Name</th>\n",
       "      <th>Sex</th>\n",
       "      <th>Age</th>\n",
       "      <th>SibSp</th>\n",
       "      <th>Parch</th>\n",
       "      <th>Ticket</th>\n",
       "      <th>Fare</th>\n",
       "      <th>Cabin</th>\n",
       "      <th>Embarked</th>\n",
       "    </tr>\n",
       "  </thead>\n",
       "  <tbody>\n",
       "    <tr>\n",
       "      <th>0</th>\n",
       "      <td>1</td>\n",
       "      <td>0</td>\n",
       "      <td>3</td>\n",
       "      <td>Braund, Mr. Owen Harris</td>\n",
       "      <td>male</td>\n",
       "      <td>22.0</td>\n",
       "      <td>1</td>\n",
       "      <td>0</td>\n",
       "      <td>A/5 21171</td>\n",
       "      <td>7.2500</td>\n",
       "      <td>NaN</td>\n",
       "      <td>S</td>\n",
       "    </tr>\n",
       "    <tr>\n",
       "      <th>1</th>\n",
       "      <td>2</td>\n",
       "      <td>1</td>\n",
       "      <td>1</td>\n",
       "      <td>Cumings, Mrs. John Bradley (Florence Briggs Th...</td>\n",
       "      <td>female</td>\n",
       "      <td>38.0</td>\n",
       "      <td>1</td>\n",
       "      <td>0</td>\n",
       "      <td>PC 17599</td>\n",
       "      <td>71.2833</td>\n",
       "      <td>C85</td>\n",
       "      <td>C</td>\n",
       "    </tr>\n",
       "    <tr>\n",
       "      <th>2</th>\n",
       "      <td>3</td>\n",
       "      <td>1</td>\n",
       "      <td>3</td>\n",
       "      <td>Heikkinen, Miss. Laina</td>\n",
       "      <td>female</td>\n",
       "      <td>26.0</td>\n",
       "      <td>0</td>\n",
       "      <td>0</td>\n",
       "      <td>STON/O2. 3101282</td>\n",
       "      <td>7.9250</td>\n",
       "      <td>NaN</td>\n",
       "      <td>S</td>\n",
       "    </tr>\n",
       "    <tr>\n",
       "      <th>3</th>\n",
       "      <td>4</td>\n",
       "      <td>1</td>\n",
       "      <td>1</td>\n",
       "      <td>Futrelle, Mrs. Jacques Heath (Lily May Peel)</td>\n",
       "      <td>female</td>\n",
       "      <td>35.0</td>\n",
       "      <td>1</td>\n",
       "      <td>0</td>\n",
       "      <td>113803</td>\n",
       "      <td>53.1000</td>\n",
       "      <td>C123</td>\n",
       "      <td>S</td>\n",
       "    </tr>\n",
       "    <tr>\n",
       "      <th>4</th>\n",
       "      <td>5</td>\n",
       "      <td>0</td>\n",
       "      <td>3</td>\n",
       "      <td>Allen, Mr. William Henry</td>\n",
       "      <td>male</td>\n",
       "      <td>35.0</td>\n",
       "      <td>0</td>\n",
       "      <td>0</td>\n",
       "      <td>373450</td>\n",
       "      <td>8.0500</td>\n",
       "      <td>NaN</td>\n",
       "      <td>S</td>\n",
       "    </tr>\n",
       "  </tbody>\n",
       "</table>\n",
       "</div>"
      ],
      "text/plain": [
       "   PassengerId  Survived  Pclass  \\\n",
       "0            1         0       3   \n",
       "1            2         1       1   \n",
       "2            3         1       3   \n",
       "3            4         1       1   \n",
       "4            5         0       3   \n",
       "\n",
       "                                                Name     Sex   Age  SibSp  \\\n",
       "0                            Braund, Mr. Owen Harris    male  22.0      1   \n",
       "1  Cumings, Mrs. John Bradley (Florence Briggs Th...  female  38.0      1   \n",
       "2                             Heikkinen, Miss. Laina  female  26.0      0   \n",
       "3       Futrelle, Mrs. Jacques Heath (Lily May Peel)  female  35.0      1   \n",
       "4                           Allen, Mr. William Henry    male  35.0      0   \n",
       "\n",
       "   Parch            Ticket     Fare Cabin Embarked  \n",
       "0      0         A/5 21171   7.2500   NaN        S  \n",
       "1      0          PC 17599  71.2833   C85        C  \n",
       "2      0  STON/O2. 3101282   7.9250   NaN        S  \n",
       "3      0            113803  53.1000  C123        S  \n",
       "4      0            373450   8.0500   NaN        S  "
      ]
     },
     "execution_count": 37,
     "metadata": {},
     "output_type": "execute_result"
    }
   ],
   "source": [
    "df.head()"
   ]
  },
  {
   "cell_type": "code",
   "execution_count": 51,
   "id": "058949d9-db8d-4c57-86b4-7bcbd401ab7d",
   "metadata": {},
   "outputs": [
    {
     "data": {
      "text/html": [
       "<div>\n",
       "<style scoped>\n",
       "    .dataframe tbody tr th:only-of-type {\n",
       "        vertical-align: middle;\n",
       "    }\n",
       "\n",
       "    .dataframe tbody tr th {\n",
       "        vertical-align: top;\n",
       "    }\n",
       "\n",
       "    .dataframe thead th {\n",
       "        text-align: right;\n",
       "    }\n",
       "</style>\n",
       "<table border=\"1\" class=\"dataframe\">\n",
       "  <thead>\n",
       "    <tr style=\"text-align: right;\">\n",
       "      <th></th>\n",
       "      <th>count</th>\n",
       "    </tr>\n",
       "    <tr>\n",
       "      <th>Age</th>\n",
       "      <th></th>\n",
       "    </tr>\n",
       "  </thead>\n",
       "  <tbody>\n",
       "    <tr>\n",
       "      <th>(0.419, 8.378]</th>\n",
       "      <td>54</td>\n",
       "    </tr>\n",
       "    <tr>\n",
       "      <th>(8.378, 16.336]</th>\n",
       "      <td>46</td>\n",
       "    </tr>\n",
       "    <tr>\n",
       "      <th>(16.336, 24.294]</th>\n",
       "      <td>177</td>\n",
       "    </tr>\n",
       "    <tr>\n",
       "      <th>(24.294, 32.252]</th>\n",
       "      <td>169</td>\n",
       "    </tr>\n",
       "    <tr>\n",
       "      <th>(32.252, 40.21]</th>\n",
       "      <td>118</td>\n",
       "    </tr>\n",
       "    <tr>\n",
       "      <th>(40.21, 48.168]</th>\n",
       "      <td>70</td>\n",
       "    </tr>\n",
       "    <tr>\n",
       "      <th>(48.168, 56.126]</th>\n",
       "      <td>45</td>\n",
       "    </tr>\n",
       "    <tr>\n",
       "      <th>(56.126, 64.084]</th>\n",
       "      <td>24</td>\n",
       "    </tr>\n",
       "    <tr>\n",
       "      <th>(64.084, 72.042]</th>\n",
       "      <td>9</td>\n",
       "    </tr>\n",
       "    <tr>\n",
       "      <th>(72.042, 80.0]</th>\n",
       "      <td>2</td>\n",
       "    </tr>\n",
       "  </tbody>\n",
       "</table>\n",
       "</div>"
      ],
      "text/plain": [
       "                  count\n",
       "Age                    \n",
       "(0.419, 8.378]       54\n",
       "(8.378, 16.336]      46\n",
       "(16.336, 24.294]    177\n",
       "(24.294, 32.252]    169\n",
       "(32.252, 40.21]     118\n",
       "(40.21, 48.168]      70\n",
       "(48.168, 56.126]     45\n",
       "(56.126, 64.084]     24\n",
       "(64.084, 72.042]      9\n",
       "(72.042, 80.0]        2"
      ]
     },
     "execution_count": 51,
     "metadata": {},
     "output_type": "execute_result"
    }
   ],
   "source": [
    "#lets try to create frequecy table of column Age\n",
    "import numpy as np\n",
    "import pandas as pd\n",
    "data_Age=df['Age']\n",
    "num_bins=10 #num_bins+1 generates the correct number of edges for N bin\n",
    "\n",
    "#creating min and max Age range using tuple unpacking\n",
    "min_dataAge,max_dataAge=data_age.min(),data_age.max()\n",
    "\n",
    "#creating bins using np.linspace(),min(),max() where linspace() generate equal spaced intervals from min_dataAge to max_dataAge\n",
    "Age_intervals=np.linspace(min_dataAge,max_dataAge,num_bins+1)\n",
    "\n",
    "#Assigning Each age data value to  corresponding age intervals or bins\n",
    "#include_lowest: checks and ensure lowest value that is age is included in 1st interval/bin\n",
    "#Value_counts() counts the no of age data falls into each age intervals/bins\n",
    "#sorts the bins in ascending order\n",
    "Age_freq_table=pd.cut(data_Age,bins=Age_intervals,include_lowest=True).value_counts().sort_index()\n",
    "#converting data into well structured dataframe dataset\n",
    "Freq_Age_table=pd.DataFrame(Age_freq_table)\n",
    "#diplaying dataset\n",
    "Freq_Age_table"
   ]
  },
  {
   "cell_type": "code",
   "execution_count": 67,
   "id": "4fbead22-ff6f-4c0c-87aa-8c77eca23212",
   "metadata": {},
   "outputs": [
    {
     "data": {
      "text/plain": [
       "Text(0, 0.5, 'Count of Age ')"
      ]
     },
     "execution_count": 67,
     "metadata": {},
     "output_type": "execute_result"
    },
    {
     "data": {
      "image/png": "[encoded data removed]",
      "text/plain": [
       "<Figure size 1500x600 with 1 Axes>"
      ]
     },
     "metadata": {},
     "output_type": "display_data"
    }
   ],
   "source": [
    "#lets create histogram for Freq_Age_Table\n",
    "#lets keep number of edge is 10 \n",
    "num_bins=10\n",
    "import matplotlib.pyplot as plt\n",
    "plt.figure(figsize=(15,6))\n",
    "#creating histograms\n",
    "n,bins,patches=plt.hist(df['Age'],bins=num_bins,edgecolor='red',alpha=0.8)\n",
    "plt.title(\"Tinanic Passenger Age Distribution\")\n",
    "plt.xlabel(\"Age\")\n",
    "plt.ylabel(\"Count of Age \")"
   ]
  },
  {
   "cell_type": "markdown",
   "id": "f26be47a-05d0-47ce-8443-fedf31b994e6",
   "metadata": {},
   "source": [
    "## confusion Clearance"
   ]
  },
  {
   "cell_type": "markdown",
   "id": "f0a177c5-6b64-47ea-be28-33629ad40d91",
   "metadata": {},
   "source": [
    "I want to share line of code where get stuck for almost a day. And it is part of learning phase. Many of beginner finds  un-easy on this line  'n,bins,patches=plt.hist(df['Selected_col'],bins=num_bins,edgecolor='red',alpha=0.8)' and what is role of n,bins and patches in histogram plot.Answer is when we creates hist() method, hist() returns three values n, bins, patches. 'n' is numpy array containing the count of values in each bins. 'bins' is also a numpy array representing the edges of the bins and 'patches' is a list of patch object representing each bar in the histogram. Thus, assignnment n,binsm patches unpack  3 pieces of information that matplotlib generate when creating a histogram. Therefore Return values must be handle by assigning them. I think or not sure,assign value must be for future uses or customizations. "
   ]
  },
  {
   "cell_type": "markdown",
   "id": "4f1fda0f-70a3-4304-b09d-449aa7ff137b",
   "metadata": {},
   "source": [
    "### Density Histogram "
   ]
  },
  {
   "cell_type": "markdown",
   "id": "1efa3833-eb94-4a29-b647-d3378aa069ec",
   "metadata": {},
   "source": [
    "A density histogram plot is A smoothed,Continous version of a histogram.From Above histogram plot we know that , we use histogram for  precise counts per bins. Then why we need Density histogram? We need it for comparing multiple distribution,showing overall shape without working without working with continuous data.Previous we use 'matplotlib' but here we are going to use 'seaborn'. Lets jump into implementation.\n"
   ]
  },
  {
   "cell_type": "code",
   "execution_count": 85,
   "id": "0b4c1a72-c3d3-4575-8ebd-0901ca4b2860",
   "metadata": {},
   "outputs": [
    {
     "data": {
      "image/png": "[encoded data removed]",
      "text/plain": [
       "<Figure size 1400x700 with 1 Axes>"
      ]
     },
     "metadata": {},
     "output_type": "display_data"
    }
   ],
   "source": [
    "import seaborn as sns\n",
    "import matplotlib.pyplot as plt\n",
    "\n",
    "plt.figure(figsize = (14,7))\n",
    "sns.histplot(df['Age'],stat='density',bins=10,alpha=0.5,edgecolor='red')\n",
    "sns.kdeplot(df['Age'],linewidth=2,color='blue')\n",
    "plt.title(\"Titanic Age Density Distribution\")\n",
    "plt.xlabel(\"Age\")\n",
    "plt.ylabel(\"Density\")\n",
    "plt.grid(axis='y',alpha=0.4)"
   ]
  },
  {
   "cell_type": "markdown",
   "id": "ab5a6c05-484f-4d44-bf0d-10567a84d265",
   "metadata": {},
   "source": [
    "Note: n,bins,patches in kde(creates the smooth curve) dynamically handles these return values"
   ]
  },
  {
   "cell_type": "markdown",
   "id": "b57d83aa-8c71-4543-a4e6-761a5f4e4d5b",
   "metadata": {},
   "source": [
    "### Why sns.histogram() pass parameter stat='density' ?"
   ]
  },
  {
   "cell_type": "markdown",
   "id": "a6db8869-b663-486b-99e6-07affa8ebaf2",
   "metadata": {},
   "source": [
    "Seaborn converts raw counts into probability densities, ensuring that the total area under the histogram sum to 1. This rescale the histogram so that \n",
    "area represents relative proportions rather than than absolute counts."
   ]
  },
  {
   "cell_type": "code",
   "execution_count": null,
   "id": "86a9ffbc-2a17-48d9-b403-fe576cbc5157",
   "metadata": {},
   "outputs": [],
   "source": []
  }
 ],
 "metadata": {
  "kernelspec": {
   "display_name": "Python [conda env:base] *",
   "language": "python",
   "name": "conda-base-py"
  },
  "language_info": {
   "codemirror_mode": {
    "name": "ipython",
    "version": 3
   },
   "file_extension": ".py",
   "mimetype": "text/x-python",
   "name": "python",
   "nbconvert_exporter": "python",
   "pygments_lexer": "ipython3",
   "version": "3.12.7"
  }
 },
 "nbformat": 4,
 "nbformat_minor": 5
}
